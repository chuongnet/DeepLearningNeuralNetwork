{
 "cells": [
  {
   "cell_type": "markdown",
   "id": "9ff44fe3",
   "metadata": {},
   "source": [
    "## Chapter 2 - Deep Learning\n",
    "\n",
    "Hierarchical feature learning\n",
    "\n",
    "Scalable learning across domain (e.g. CNN: convolutional neutral network) like a multilayer perceptron feedforward neutral networks, the technique scales with data and model size and can be trained with backpropagation.\n",
    "\n",
    "## Chapter 3 - Promise of Deep Learning for NL\n",
    "\n",
    "Better performance by models that may require more data but less linguistic expertise to train and operate.\n",
    "\n",
    "### 3.1. Promise of Drop-in replacement models\n",
    "\n",
    "Deep learning method that can be dropped into existing NL sys as replacement models\n",
    "\n",
    "### 3.2. Promise of New NLP model\n",
    "\n",
    "methods, offer the opportunity of new modeling approaches to challenging nl problems like sequence-to-sequence prediction\n",
    "\n",
    "### 3.3. Promise of feature learning\n",
    "\n",
    "methods, learn the features by models, rather than requiring specific features and expert.\n",
    "\n",
    "### 3.4. Promise of Continued improvement\n",
    "\n",
    "performance of DL based on real results and improvements appear to continuing and perhaps speeding up.\n",
    "\n",
    "### 3.5. Promise of End-to-End models\n",
    "\n",
    "to offer more general and better performing approach.\n",
    "\n",
    "## Chapter 4 - Develop Deep Learning Models with Keras\n",
    "\n",
    "### 4.1. Keras model Life-Cycle\n",
    "\n",
    "### 1. Define network\n",
    "\n",
    "Neutral network in Keras is defined as sequence of layers. The container for these layers is the Sequential class.    \n",
    " model = Sequential()\n",
    "    \n",
    "model.add(Dense(2))\n",
    "\n",
    "*) Sequential model with one Dense layer and 2 neurons\n",
    "\n",
    "or\n",
    "\n",
    "layers = [Dense(2)]\n",
    "\n",
    "model = Sequential(layers)\n",
    "    \n",
    "The first layer in the network must define the number of inputs to expect (depends on the network type). \n",
    "\n",
    "The Multilayer perceptron model is specified by the $\\textbf{input_dim}$ attribute. Ex, Multilayer perceptron model with 2-layer inputs visible, 5 neurons in hidden layer and one neuron in the output layer\n",
    "\n",
    "model = Sequential()\n",
    "\n",
    "model.add(Dense(5, input_dim=2))\n",
    "\n",
    "model.add(Dense(1)}\n",
    "\n",
    "Adding prediction function is separated in the Sequential model, such as Activation class\n",
    "\n",
    "model = Sequential()\n",
    "\n",
    "model.add(Dense(5, input_dim=2))\n",
    "\n",
    "model.add(Activation('$relu$'))\n",
    "\n",
    "model.add(Dense(1))\n",
    "\n",
    "model.add(Activation('$sigmoid$'))\n",
    "\n",
    "*) Sequential model with Activation functions for each layer.\n",
    "\n",
    "*) Choose the Activation functions:\n",
    "\n",
    "**) $linear$ activation, for regression and number of neurons matching the number of output\n",
    "\n",
    "**) $sigmoid$ activation, Logistic function for Binary classification (2 classes), and one neuron for output\n",
    "\n",
    "**) $softmax$ activation, the Softmax function for Multiclass classification (>2 classes), assuming a one hot encoded output pattern\n",
    "\n",
    "### 2. Compile network\n",
    "\n",
    "Depending on how Keras is configured, compilation will be executed on GPU or CPU.\n",
    "\n",
    "Parameters of compile() function: optimization algorithm is used to train the network, loss function is used to evaluate the network that is minimized by the optimization algorithm. \n",
    "\n",
    "model.compile(optimizer='sgd', loss='mean_squared_error')\n",
    "\n",
    "*) optimization algorithm uses 'sgd' (Stochastic Gradient Descent)\n",
    "\n",
    "*) loss function with using mean squared error\n",
    "\n",
    "We also define the optiomization algorithm before using in compile function\n",
    "\n",
    "algorithm = SGD(lr=0.1, momentum=0.3)\n",
    "\n",
    "model.compile(optimizer=algorithm, loss='categorical_crossentropy')\n",
    "\n",
    "The type of predictive modeling problem impose constraints on type of loss function\n",
    "\n",
    "*) Regression: mean_squared_error\n",
    "\n",
    "*) Binary classification: Logarithmic loss, binary_crossentropy\n",
    "\n",
    "*) Multiclass classification: multiclass logarithmic loss, categorical_crossentropy\n",
    "\n",
    "The most common optimization algorithm is 'sgd', others:\n",
    "\n",
    "*) Stochastic Gradient Descent 'sgd', that requires the tuning of a learning rate and momentum\n",
    "\n",
    "*) Adam 'adam', requires tuning of learning rate\n",
    "\n",
    "*) RMSprop 'rmsprop', requires tuning of learning rate\n",
    "\n",
    "Finally, using specify metrics to collect while fitting the model in addition to the loss function.\n",
    "\n",
    "model.compile(optimizer='adam', loss='mean_squared_error', metrics=['accuracy'])\n",
    "\n",
    "### 3. Fit network\n",
    "\n",
    "A network is fitting on the training datasets, both a matrix of input pattern X, and the array of matching output pattern y, by using backpropagation. The backpropagation algorithm requires that the network be trained for a specified number of epochs or exposures to the training dataset. This defines the number of patterns that the network is exposed to before the weights are updated within an epoch. It is an efficiency optimization, ensuring that not too many input patterns are loaded into memory at a time.\n",
    "\n",
    "classifier = model.fit(X, y, batch_size=10, epochs=100)\n",
    "\n",
    "*) classifier: object to handle result performance of training dataset, including loss value, and additional metrics, recorded each epoch.\n",
    "\n",
    "*) We can turn off all output information by setting verbose to 0\n",
    "\n",
    "classifier = model.fit(X, y, batch_size=10, epoch=5, verbose=0)\n",
    "\n",
    "### 4. Evaluate network\n",
    "\n",
    "The model evaluates the loss across all the test pattern, to check the performance of model. That the network make a prediction on unseen (testing) dataset.\n",
    "\n",
    "loss, accuracy = model.evaluate(X_test, y)\n",
    "\n",
    "Limited output information with verbose=0\n",
    "\n",
    "### 5. Make Prediction\n",
    "\n",
    "After all, the model's performance is satisfaction, we can use it to make predictions on new data\n",
    "\n",
    "predictions = model.predict(X_new)\n",
    "\n",
    "The output of predictions is the output layer of the network.\n",
    "\n",
    "For multiclass classification problem, the results may be in the form of an array of probabilities. \n",
    "\n",
    "Using predict_classes() function that will automatically convert uncrisp predictions to crisp integer class values\n",
    "\n",
    "predictions = model.predict_classes(X_new)\n",
    "\n",
    "### 4.2. Keras Functional Models\n",
    "\n",
    "The functional APIs in Keras:\n",
    "\n",
    "### 4.2.1. Defining Input\n",
    "\n",
    "from keras.layers import Input\n",
    "\n",
    "visible = Input(shape=(2, ))\n",
    "\n",
    "*) shape argument: tuple to indicate the dimensionality of the input data. (2, ) in case of multilayer Perceptron, leave the room for the shape of the mini-batch size when splits the data into train and test set\n",
    "\n",
    "### 4.2.2. Connecting Layers\n",
    "\n",
    "The layer in network is connected pairwise. Which defines the input layer, and the hidden layer.\n",
    "\n",
    "from keras.layers import Input\n",
    "\n",
    "from keras.layers import Dense\n",
    "\n",
    "visible = Input(shape=(2, ))\n",
    "\n",
    "hidden = Dense(2)(visible)\n",
    "\n",
    "*) $(visible)$ of the Dense layer that connects the input layer's output as the input to the Dense hidden layer.\n",
    "\n",
    "### 4.2.3. Creating the Model\n",
    "\n",
    "from keras.layers import Input\n",
    "\n",
    "from keras.layers import Dense\n",
    "\n",
    "from keras.models import Model\n",
    "\n",
    "visible = Input(shape=(2, ))\n",
    "\n",
    "hidden = Dense(2)(visible)\n",
    "\n",
    "model = Model(inputs=visible, output=hidden)\n",
    "\n",
    "*) Model class create a model from your created layers, it requires the specific input and output layers.\n",
    "\n",
    "\n",
    "### 4.3. Standard Network Models\n",
    "\n",
    "### 4.3.1. Simple Multilayer Perceptron"
   ]
  },
  {
   "cell_type": "code",
   "execution_count": 1,
   "id": "9393ed1c",
   "metadata": {},
   "outputs": [
    {
     "name": "stdout",
     "output_type": "stream",
     "text": [
      "Model: \"model\"\n",
      "_________________________________________________________________\n",
      "Layer (type)                 Output Shape              Param #   \n",
      "=================================================================\n",
      "input_1 (InputLayer)         [(None, 10)]              0         \n",
      "_________________________________________________________________\n",
      "dense (Dense)                (None, 10)                110       \n",
      "_________________________________________________________________\n",
      "dense_1 (Dense)              (None, 20)                220       \n",
      "_________________________________________________________________\n",
      "dense_2 (Dense)              (None, 10)                210       \n",
      "_________________________________________________________________\n",
      "dense_3 (Dense)              (None, 1)                 11        \n",
      "=================================================================\n",
      "Total params: 551\n",
      "Trainable params: 551\n",
      "Non-trainable params: 0\n",
      "_________________________________________________________________\n"
     ]
    },
    {
     "data": {
      "image/png": "[encoded data removed]",
      "text/plain": [
       "<IPython.core.display.Image object>"
      ]
     },
     "execution_count": 1,
     "metadata": {},
     "output_type": "execute_result"
    }
   ],
   "source": [
    "from tensorflow.keras.utils import plot_model\n",
    "from tensorflow.keras.models import Model\n",
    "from tensorflow.keras.layers import Input\n",
    "from tensorflow.keras.layers import Dense\n",
    "\n",
    "\n",
    "visible = Input(shape=(10,))\n",
    "hidden1 = Dense(10, activation='relu')(visible)\n",
    "hidden2 = Dense(20, activation='relu')(hidden1)\n",
    "hidden3 = Dense(10, activation='relu')(hidden2)\n",
    "output = Dense(1, activation='sigmoid')(hidden3)\n",
    "model = Model(inputs=visible, outputs=output)\n",
    "# summarize layers\n",
    "model.summary()\n",
    "# plot graph\n",
    "plot_model(model, to_file='multilayer_perceptron.png')"
   ]
  },
  {
   "cell_type": "markdown",
   "id": "677ffee9",
   "metadata": {},
   "source": [
    "### 4.3.2. Convolution Neural Network\n",
    "\n",
    "Image classification, the model receives black and white 64x64 images as input, then has a sequence of two convolutional and pooling layers as feature extraction, followed by a fully connected layer to interpret the features and an output layer with a sigmoid activation for two-class prediction"
   ]
  },
  {
   "cell_type": "code",
   "execution_count": 2,
   "id": "f9d339f1",
   "metadata": {},
   "outputs": [
    {
     "name": "stdout",
     "output_type": "stream",
     "text": [
      "Model: \"model_1\"\n",
      "_________________________________________________________________\n",
      "Layer (type)                 Output Shape              Param #   \n",
      "=================================================================\n",
      "input_2 (InputLayer)         [(None, 64, 64, 1)]       0         \n",
      "_________________________________________________________________\n",
      "conv2d (Conv2D)              (None, 61, 61, 32)        544       \n",
      "_________________________________________________________________\n",
      "max_pooling2d (MaxPooling2D) (None, 30, 30, 32)        0         \n",
      "_________________________________________________________________\n",
      "conv2d_1 (Conv2D)            (None, 27, 27, 16)        8208      \n",
      "_________________________________________________________________\n",
      "max_pooling2d_1 (MaxPooling2 (None, 13, 13, 16)        0         \n",
      "_________________________________________________________________\n",
      "dense_4 (Dense)              (None, 13, 13, 10)        170       \n",
      "_________________________________________________________________\n",
      "dense_5 (Dense)              (None, 13, 13, 1)         11        \n",
      "=================================================================\n",
      "Total params: 8,933\n",
      "Trainable params: 8,933\n",
      "Non-trainable params: 0\n",
      "_________________________________________________________________\n"
     ]
    },
    {
     "data": {
      "image/png": "[encoded data removed]",
      "text/plain": [
       "<IPython.core.display.Image object>"
      ]
     },
     "execution_count": 2,
     "metadata": {},
     "output_type": "execute_result"
    }
   ],
   "source": [
    "from tensorflow.keras.utils import plot_model\n",
    "from tensorflow.keras.models import Model\n",
    "from tensorflow.keras.layers import Input, Dense, Conv2D, MaxPooling2D\n",
    "\n",
    "visible = Input(shape=(64, 64, 1))\n",
    "conv1 = Conv2D(32, kernel_size=4, activation='relu')(visible)\n",
    "pool1 = MaxPooling2D(pool_size=(2, 2))(conv1)\n",
    "conv2 = Conv2D(16, kernel_size=4, activation='relu')(pool1)\n",
    "pool2 = MaxPooling2D(pool_size=(2, 2))(conv2)\n",
    "\n",
    "hidden1 = Dense(10, activation='relu')(pool2)\n",
    "output = Dense(1, activation='sigmoid')(hidden1)\n",
    "model = Model(inputs=visible, outputs=output)\n",
    "\n",
    "model.summary()\n",
    "\n",
    "plot_model(model)"
   ]
  },
  {
   "cell_type": "markdown",
   "id": "8eeda08d",
   "metadata": {},
   "source": [
    "### 4.3.3. Recurrent Neural Network\n",
    "Sequential(): recurrent neural network for sequence classification.\n",
    "\n",
    "LSTM(): the long short-term memory recurrent neural network for sequence. The model has single LSTM hidden layer to extract features from sequence. Followed by fully connected layer to interpret the LSTM output, followed by an output layer for making binary predictions."
   ]
  },
  {
   "cell_type": "code",
   "execution_count": 19,
   "id": "33207592",
   "metadata": {},
   "outputs": [
    {
     "name": "stdout",
     "output_type": "stream",
     "text": [
      "Model: \"model\"\n",
      "_________________________________________________________________\n",
      "Layer (type)                 Output Shape              Param #   \n",
      "=================================================================\n",
      "input_1 (InputLayer)         [(None, 100, 1)]          0         \n",
      "_________________________________________________________________\n",
      "lstm_1 (LSTM)                (None, 10)                480       \n",
      "_________________________________________________________________\n",
      "dense_1 (Dense)              (None, 10)                110       \n",
      "_________________________________________________________________\n",
      "dense_2 (Dense)              (None, 1)                 11        \n",
      "=================================================================\n",
      "Total params: 601\n",
      "Trainable params: 601\n",
      "Non-trainable params: 0\n",
      "_________________________________________________________________\n"
     ]
    },
    {
     "data": {
      "image/png": "[encoded data removed]",
      "text/plain": [
       "<IPython.core.display.Image object>"
      ]
     },
     "execution_count": 19,
     "metadata": {},
     "output_type": "execute_result"
    }
   ],
   "source": [
    "from tensorflow.keras.utils import plot_model\n",
    "from tensorflow.keras.models import Model\n",
    "from tensorflow.keras.layers import Input, Dense, LSTM\n",
    "\n",
    "visible = Input(shape=(100,1))\n",
    "hidden1 = LSTM(10)(visible)\n",
    "hidden2 = Dense(10, activation='relu')(hidden1)\n",
    "output = Dense(1, activation='sigmoid')(hidden2)\n",
    "model = Model(inputs=visible, outputs=output)\n",
    "\n",
    "model.summary()\n",
    "\n",
    "plot_model(model, to_file='rnn_lstm.png')\n"
   ]
  },
  {
   "cell_type": "markdown",
   "id": "dfc2fb2a",
   "metadata": {},
   "source": [
    "### Brief recap on LSTMs\n",
    "https://www.machinecurve.com/index.php/2021/01/07/build-an-lstm-model-with-tensorflow-and-keras/\n",
    "\n",
    "A benefit of LSTMs with respect to simple RNNs lies in the fact that memory has been separated from the actual output mechanisms. The LSTM network is a kind of recurrent neural network, the recurrent neural network attempts to model time or sequence dependent behavior, such as language, stock price, electricity,... This performed by feeding back the output of a neural network layer at time t to the input of the same network layer at time t + 1.\n",
    "\n",
    "classic RNNs are combined with activation functions like Sigmoid and Tanh, but primary is the Sigmoid (range in -1, 1) "
   ]
  },
  {
   "cell_type": "code",
   "execution_count": 1,
   "id": "69e70560",
   "metadata": {},
   "outputs": [
    {
     "data": {
      "text/plain": [
       "(25000,)"
      ]
     },
     "metadata": {},
     "output_type": "display_data"
    },
    {
     "data": {
      "text/plain": [
       "(25000,)"
      ]
     },
     "metadata": {},
     "output_type": "display_data"
    }
   ],
   "source": [
    "from tensorflow.keras.utils import plot_model\n",
    "from tensorflow.keras.models import Sequential\n",
    "from tensorflow.keras.layers import Embedding, Dense, LSTM\n",
    "import tensorflow as tf\n",
    "from tensorflow.keras.datasets import imdb\n",
    "from tensorflow.keras.losses import BinaryCrossentropy\n",
    "from tensorflow.keras.optimizers import Adam\n",
    "from tensorflow.keras.preprocessing.sequence import pad_sequences\n",
    "\n",
    "## Model config\n",
    "add_metrics = ['accuracy']\n",
    "batch_size = 128\n",
    "embedding_output_dims = 15\n",
    "loss_func = BinaryCrossentropy()\n",
    "max_sequence_length = 300\n",
    "num_distinct_words = 5000\n",
    "num_epochs = 5\n",
    "optimizer = Adam()\n",
    "validation_split = 0.20\n",
    "verbosity_mode = 1\n",
    "\n",
    "## Disable eager execution\n",
    "tf.compat.v1.disable_eager_execution()\n",
    "\n",
    "## load dataset\n",
    "(x_train, y_train), (x_test, y_test) = imdb.load_data(num_words=num_distinct_words)\n",
    "\n",
    "display(x_train.shape, x_test.shape)"
   ]
  },
  {
   "cell_type": "code",
   "execution_count": 6,
   "id": "ff0c8f08",
   "metadata": {},
   "outputs": [
    {
     "data": {
      "text/plain": [
       "(25000,)"
      ]
     },
     "metadata": {},
     "output_type": "display_data"
    },
    {
     "data": {
      "text/plain": [
       "(25000,)"
      ]
     },
     "metadata": {},
     "output_type": "display_data"
    }
   ],
   "source": [
    "display(y_train.shape, y_test.shape)"
   ]
  },
  {
   "cell_type": "code",
   "execution_count": 8,
   "id": "8a578718",
   "metadata": {
    "scrolled": true
   },
   "outputs": [],
   "source": [
    "# display(x_train[0], x_test[0], y_train[0], y_test[0])"
   ]
  },
  {
   "cell_type": "code",
   "execution_count": 2,
   "id": "40643163",
   "metadata": {},
   "outputs": [
    {
     "name": "stdout",
     "output_type": "stream",
     "text": [
      "Model: \"sequential\"\n",
      "_________________________________________________________________\n",
      "Layer (type)                 Output Shape              Param #   \n",
      "=================================================================\n",
      "embedding (Embedding)        (None, 300, 15)           75000     \n",
      "_________________________________________________________________\n",
      "lstm (LSTM)                  (None, 10)                1040      \n",
      "_________________________________________________________________\n",
      "dense (Dense)                (None, 1)                 11        \n",
      "=================================================================\n",
      "Total params: 76,051\n",
      "Trainable params: 76,051\n",
      "Non-trainable params: 0\n",
      "_________________________________________________________________\n"
     ]
    }
   ],
   "source": [
    "## Pad all sequences\n",
    "padded_input = pad_sequences(x_train, maxlen=max_sequence_length, value=0.0) #0.0 to corresponse with PAD\n",
    "padded_input_test = pad_sequences(x_test, maxlen=max_sequence_length, value=0.0)\n",
    "\n",
    "## Define keras model\n",
    "model = Sequential()\n",
    "model.add(Embedding(num_distinct_words, embedding_output_dims, input_length=max_sequence_length))\n",
    "model.add(LSTM(10))\n",
    "model.add(Dense(1, activation='sigmoid'))\n",
    "\n",
    "## compile model\n",
    "model.compile(optimizer=optimizer, loss=loss_func, metrics=add_metrics)\n",
    "\n",
    "model.summary()"
   ]
  },
  {
   "cell_type": "code",
   "execution_count": 4,
   "id": "d2ba0488",
   "metadata": {},
   "outputs": [
    {
     "name": "stdout",
     "output_type": "stream",
     "text": [
      "Train on 20000 samples, validate on 5000 samples\n",
      "Epoch 1/5\n",
      "20000/20000 [==============================] - ETA: 0s - loss: 0.5914 - accuracy: 0.7030"
     ]
    },
    {
     "name": "stderr",
     "output_type": "stream",
     "text": [
      "/home/chuongnet/anaconda3/lib/python3.7/site-packages/keras/engine/training.py:2470: UserWarning: `Model.state_updates` will be removed in a future version. This property should not be used in TensorFlow 2.0, as `updates` are applied automatically.\n",
      "  warnings.warn('`Model.state_updates` will be removed in a future version. '\n"
     ]
    },
    {
     "name": "stdout",
     "output_type": "stream",
     "text": [
      "20000/20000 [==============================] - 19s 928us/sample - loss: 0.5914 - accuracy: 0.7030 - val_loss: 0.4270 - val_accuracy: 0.8452\n",
      "Epoch 2/5\n",
      "20000/20000 [==============================] - 18s 925us/sample - loss: 0.3494 - accuracy: 0.8681 - val_loss: 0.3573 - val_accuracy: 0.8526\n",
      "Epoch 3/5\n",
      "20000/20000 [==============================] - 18s 923us/sample - loss: 0.2657 - accuracy: 0.9032 - val_loss: 0.3217 - val_accuracy: 0.8710\n",
      "Epoch 4/5\n",
      "20000/20000 [==============================] - 18s 920us/sample - loss: 0.2234 - accuracy: 0.9222 - val_loss: 0.3055 - val_accuracy: 0.8768\n",
      "Epoch 5/5\n",
      "20000/20000 [==============================] - 18s 918us/sample - loss: 0.1960 - accuracy: 0.9334 - val_loss: 0.3292 - val_accuracy: 0.8686\n"
     ]
    }
   ],
   "source": [
    "## train the model\n",
    "classifier = model.fit(padded_input, y_train, batch_size=batch_size, epochs=num_epochs,\n",
    "                      verbose=verbosity_mode, validation_split=validation_split)"
   ]
  },
  {
   "cell_type": "code",
   "execution_count": 5,
   "id": "59336f0c",
   "metadata": {},
   "outputs": [],
   "source": [
    "## evaluate model with test set\n",
    "test_results = model.evaluate(padded_input_test, y_test, verbose=0)"
   ]
  },
  {
   "cell_type": "code",
   "execution_count": 6,
   "id": "c4e58bef",
   "metadata": {},
   "outputs": [
    {
     "name": "stdout",
     "output_type": "stream",
     "text": [
      "Test results: Loss= 0.34106126883029936, Acc= 86.22000217437744\n"
     ]
    }
   ],
   "source": [
    "print(f'Test results: Loss= {test_results[0]}, Acc= {test_results[1]*100}')"
   ]
  },
  {
   "cell_type": "code",
   "execution_count": 11,
   "id": "1ac66004",
   "metadata": {},
   "outputs": [
    {
     "data": {
      "text/plain": [
       "{'loss': [0.591410935497284,\n",
       "  0.3494469801425934,\n",
       "  0.265696471619606,\n",
       "  0.22337994124889374,\n",
       "  0.19597925786972045],\n",
       " 'accuracy': [0.703, 0.86815, 0.90315, 0.9222, 0.93345],\n",
       " 'val_loss': [0.42696526613235475,\n",
       "  0.35729103593826295,\n",
       "  0.32169428129196165,\n",
       "  0.3055043119430542,\n",
       "  0.329220414018631],\n",
       " 'val_accuracy': [0.8452, 0.8526, 0.871, 0.8768, 0.8686]}"
      ]
     },
     "metadata": {},
     "output_type": "display_data"
    }
   ],
   "source": [
    "display(classifier.history)"
   ]
  },
  {
   "cell_type": "code",
   "execution_count": 13,
   "id": "c83af84e",
   "metadata": {},
   "outputs": [
    {
     "data": {
      "image/png": "[encoded data removed]",
      "text/plain": [
       "<IPython.core.display.Image object>"
      ]
     },
     "execution_count": 13,
     "metadata": {},
     "output_type": "execute_result"
    }
   ],
   "source": [
    "plot_model(model, to_file='lstm_embedding.png')"
   ]
  },
  {
   "cell_type": "code",
   "execution_count": 17,
   "id": "d18a05e8",
   "metadata": {},
   "outputs": [
    {
     "data": {
      "text/plain": [
       "Text(0, 0.5, 'accuracy')"
      ]
     },
     "execution_count": 17,
     "metadata": {},
     "output_type": "execute_result"
    },
    {
     "data": {
      "image/png": "[encoded data removed]",
      "text/plain": [
       "<Figure size 432x288 with 1 Axes>"
      ]
     },
     "metadata": {
      "needs_background": "light"
     },
     "output_type": "display_data"
    }
   ],
   "source": [
    "import matplotlib.pyplot as plt\n",
    "\n",
    "plt.plot(classifier.history['accuracy'], label='train_acc')\n",
    "plt.plot(classifier.history['val_accuracy'], label='test_acc')\n",
    "plt.legend()\n",
    "plt.xlabel('epochs')\n",
    "plt.ylabel('accuracy')"
   ]
  },
  {
   "cell_type": "code",
   "execution_count": 18,
   "id": "a58c173d",
   "metadata": {},
   "outputs": [
    {
     "data": {
      "text/plain": [
       "Text(0, 0.5, 'loss')"
      ]
     },
     "execution_count": 18,
     "metadata": {},
     "output_type": "execute_result"
    },
    {
     "data": {
      "image/png": "[encoded data removed]",
      "text/plain": [
       "<Figure size 432x288 with 1 Axes>"
      ]
     },
     "metadata": {
      "needs_background": "light"
     },
     "output_type": "display_data"
    }
   ],
   "source": [
    "plt.plot(classifier.history['loss'], label='train_acc')\n",
    "plt.plot(classifier.history['val_loss'], label='test_acc')\n",
    "plt.legend()\n",
    "plt.xlabel('epochs')\n",
    "plt.ylabel('loss')"
   ]
  },
  {
   "cell_type": "code",
   "execution_count": null,
   "id": "ee3f8913",
   "metadata": {},
   "outputs": [],
   "source": []
  },
  {
   "cell_type": "code",
   "execution_count": null,
   "id": "3d4e05fd",
   "metadata": {},
   "outputs": [],
   "source": []
  },
  {
   "cell_type": "code",
   "execution_count": null,
   "id": "4312b669",
   "metadata": {},
   "outputs": [],
   "source": []
  },
  {
   "cell_type": "code",
   "execution_count": null,
   "id": "f646ce36",
   "metadata": {},
   "outputs": [],
   "source": []
  },
  {
   "cell_type": "code",
   "execution_count": null,
   "id": "58e13677",
   "metadata": {},
   "outputs": [],
   "source": []
  },
  {
   "cell_type": "code",
   "execution_count": null,
   "id": "f728a320",
   "metadata": {},
   "outputs": [],
   "source": []
  },
  {
   "cell_type": "code",
   "execution_count": null,
   "id": "963239f9",
   "metadata": {},
   "outputs": [],
   "source": []
  }
 ],
 "metadata": {
  "kernelspec": {
   "display_name": "Python 3",
   "language": "python",
   "name": "python3"
  },
  "language_info": {
   "codemirror_mode": {
    "name": "ipython",
    "version": 3
   },
   "file_extension": ".py",
   "mimetype": "text/x-python",
   "name": "python",
   "nbconvert_exporter": "python",
   "pygments_lexer": "ipython3",
   "version": "3.7.10"
  }
 },
 "nbformat": 4,
 "nbformat_minor": 5
}
