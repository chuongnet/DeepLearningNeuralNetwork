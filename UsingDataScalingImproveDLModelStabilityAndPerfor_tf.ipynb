{
 "cells": [
  {
   "cell_type": "markdown",
   "id": "3d424600",
   "metadata": {},
   "source": [
    "# How to use Data Scaling improve DL model stability and performance\n",
    "Deep learning neural networks learn how to map inputs to outputs from examples in a training dataset.\n",
    "\n",
    "The weights of the model are initialized to small random values and updated via an optimization algorithm in response to estimates of error on the training dataset.\n",
    "\n",
    "Given the use of small weights in the model and the use of error between predictions and expected values, the scale of inputs and outputs used to train the model are an important factor. Unscaled input variables can result in a slow or unstable learning process, whereas unscaled target variables on regression problems can result in exploding gradients causing the learning process to fail.\n",
    "\n",
    "Data preparation involves using techniques such as the normalization and standardization to rescale input and output variables prior to training a neural network model.\n",
    "\n",
    "# 1. the scale of data metters\n",
    "Input variables may have different units (e.g. feet, kilometers, and hours) that, in turn, may mean the variables have different scales.\n",
    "\n",
    "Differences in the scales across input variables may increase the difficulty of the problem being modeled. An example of this is that large input values (e.g. a spread of hundreds or thousands of units) can result in a model that learns large weight values. A model with large weight values is often unstable, meaning that it may suffer from poor performance during learning and sensitivity to input values resulting in higher generalization error.\n",
    "\n",
    "# 1.1. Scaling input variables\n",
    "A good rule of thumb is that input variables should be small values, probably in the range of 0-1 or standardized with a zero mean and a standard deviation of one.\n",
    "\n",
    "Whether input variables require scaling depends on the specifics of your problem and of each variable.\n",
    "\n",
    "# 1.2. Scaling output variables\n",
    "If your output activation function has a range of [0,1], then obviously you must ensure that the target values lie within that range. But it is generally better to choose an output activation function suited to the distribution of the targets than to force your data to conform to the output activation function.\n",
    "\n",
    "# 1.3. Data scaling methods\n",
    "\n",
    "## 1.3.1. Data normalization\n",
    "    norm(x) = (x - min) / (max - min)\n",
    "    \n",
    "- norm(x): normalization of value x\n",
    "- min: the minimal value in the observated values\n",
    "- max: the maximal value\n",
    "\n",
    "Using sklearn.preprocessing MinMaxScaler() method to normalize data\n",
    "    \n",
    "    scaler = MinMaxScaler()\n",
    "    scaler.fit(data)\n",
    "    normalized = scaler.transform(data)\n",
    "    -->inverse transform\n",
    "    inversed = scaler.inverse_transform(normalized)\n",
    "    \n",
    "## 1.3.2. Data standardization\n",
    "Standardization assumes that your observations fit a Gaussian distribution (bell curve) with a well behaved mean and standard deviation. You can still standardize your data if this expectation is not met, but you may not get reliable results.\n",
    "\n",
    "    standard(x) = (x - mean) / std\n",
    "    \n",
    "- standard(x): standardization of x value\n",
    "- mean: the mean of observated values \n",
    "- std: standard deviation\n",
    "\n",
    "Using StandardScaler() from sklearn.preprocessing\n",
    "\n",
    "    scaler = StandardScaler()\n",
    "    standardized = fit_transform(data)\n",
    "    -->inverse transform\n",
    "    inversed = scaler.inverse_transform(standardized)\n",
    "\n",
    "## 1.3.3. Regression predictive modeling problem\n",
    "A regression predictive modeling problem involves predicting a real-valued quantity.\n",
    "\n",
    "We will use this function to define a problem that has 20 input features; 10 of the features will be meaningful and 10 will not be relevant. A total of 1,000 examples will be randomly generated. The pseudorandom number generator will be fixed to ensure that we get the same 1,000 examples each time the code is run."
   ]
  },
  {
   "cell_type": "code",
   "execution_count": 1,
   "id": "2f5bcbd7",
   "metadata": {},
   "outputs": [
    {
     "name": "stdout",
     "output_type": "stream",
     "text": [
      "(1000, 20) (1000,)\n"
     ]
    },
    {
     "data": {
      "image/png": "[encoded data removed]",
      "text/plain": [
       "<Figure size 432x288 with 2 Axes>"
      ]
     },
     "metadata": {
      "needs_background": "light"
     },
     "output_type": "display_data"
    },
    {
     "name": "stdout",
     "output_type": "stream",
     "text": [
      "target variables\n"
     ]
    },
    {
     "data": {
      "image/png": "[encoded data removed]",
      "text/plain": [
       "<Figure size 432x288 with 1 Axes>"
      ]
     },
     "metadata": {
      "needs_background": "light"
     },
     "output_type": "display_data"
    }
   ],
   "source": [
    "from sklearn.datasets import make_regression\n",
    "import matplotlib.pyplot as plt\n",
    "\n",
    "# generate regression data\n",
    "X, y = make_regression(n_samples=1000, n_features=20, noise=0.1, random_state=1)\n",
    "print(X.shape, y.shape)\n",
    "# input values\n",
    "plt.subplot(211)\n",
    "plt.hist(X[:, 0])\n",
    "plt.subplot(212)\n",
    "plt.hist(X[:, 1])\n",
    "plt.show()\n",
    "# target variables\n",
    "print('target variables')\n",
    "plt.hist(y)\n",
    "#plt.title('y variables')\n",
    "plt.show()\n",
    "#print(X[0])"
   ]
  },
  {
   "cell_type": "markdown",
   "id": "6d3a94d9",
   "metadata": {},
   "source": [
    "# Multilayer Perceptron with Unscaled data"
   ]
  },
  {
   "cell_type": "code",
   "execution_count": 2,
   "id": "b33fc612",
   "metadata": {},
   "outputs": [],
   "source": [
    "from tensorflow.keras.layers import Dense\n",
    "from tensorflow.keras.models import Sequential\n",
    "from tensorflow.keras.optimizers import SGD\n",
    "import matplotlib.pyplot as plt"
   ]
  },
  {
   "cell_type": "code",
   "execution_count": 3,
   "id": "d3d2efbd",
   "metadata": {},
   "outputs": [
    {
     "name": "stderr",
     "output_type": "stream",
     "text": [
      "2022-02-18 16:29:13.597699: E tensorflow/stream_executor/cuda/cuda_driver.cc:271] failed call to cuInit: CUDA_ERROR_UNKNOWN: unknown error\n",
      "2022-02-18 16:29:13.597719: I tensorflow/stream_executor/cuda/cuda_diagnostics.cc:169] retrieving CUDA diagnostic information for host: G15\n",
      "2022-02-18 16:29:13.597723: I tensorflow/stream_executor/cuda/cuda_diagnostics.cc:176] hostname: G15\n",
      "2022-02-18 16:29:13.597798: I tensorflow/stream_executor/cuda/cuda_diagnostics.cc:200] libcuda reported version is: 510.47.3\n",
      "2022-02-18 16:29:13.597809: I tensorflow/stream_executor/cuda/cuda_diagnostics.cc:204] kernel reported version is: 510.47.3\n",
      "2022-02-18 16:29:13.597812: I tensorflow/stream_executor/cuda/cuda_diagnostics.cc:310] kernel version seems to match DSO: 510.47.3\n",
      "2022-02-18 16:29:13.598221: I tensorflow/core/platform/cpu_feature_guard.cc:151] This TensorFlow binary is optimized with oneAPI Deep Neural Network Library (oneDNN) to use the following CPU instructions in performance-critical operations:  AVX2 AVX512F FMA\n",
      "To enable them in other operations, rebuild TensorFlow with the appropriate compiler flags.\n"
     ]
    },
    {
     "name": "stdout",
     "output_type": "stream",
     "text": [
      "train: nan, test: nan\n"
     ]
    },
    {
     "data": {
      "image/png": "[encoded data removed]",
      "text/plain": [
       "<Figure size 432x288 with 1 Axes>"
      ]
     },
     "metadata": {
      "needs_background": "light"
     },
     "output_type": "display_data"
    }
   ],
   "source": [
    "# split train, test datasets\n",
    "n_train = 500\n",
    "trainX, testX = X[:n_train, :], X[n_train:, :]\n",
    "trainy, testy = y[:n_train], y[n_train:]\n",
    "\n",
    "# define model\n",
    "def fit_model(trainX, trainy, testX, testy):\n",
    "    model = Sequential()\n",
    "    # a single hidden later uses 25 nodes, rectified linear activation function\n",
    "    model.add(Dense(25, input_dim=20, activation='relu', kernel_initializer='he_uniform')) #input layer\n",
    "    model.add(Dense(1, activation='linear')) # output layer\n",
    "    # compile model\n",
    "    model.compile(loss='mean_squared_error', optimizer=SGD(learning_rate=0.01, momentum=0.9))\n",
    "    # fit\n",
    "    history = model.fit(trainX, trainy, validation_data=(testX, testy), epochs=200, verbose=0)\n",
    "    # evaluate model\n",
    "    train_mse = model.evaluate(trainX, trainy, verbose=0)\n",
    "    test_mse = model.evaluate(testX, testy, verbose=0)\n",
    "    print('train: %.3f, test: %.3f' % (train_mse, test_mse))\n",
    "    # plot\n",
    "    plt.plot(history.history['loss'], label='train')\n",
    "    plt.plot(history.history['val_loss'], label='test')\n",
    "    plt.title('Mean Squared Error')\n",
    "    plt.legend()\n",
    "    plt.show()\n",
    "    \n",
    "# run unscaled data\n",
    "fit_model(trainX, trainy, testX, testy)"
   ]
  },
  {
   "cell_type": "markdown",
   "id": "762a10d1",
   "metadata": {},
   "source": [
    "- ensure that the scale of your output variable matches the scale of the activation function (transfer function) on the output layer of your network.\n",
    "\n",
    "### Binary Classification Problem\n",
    "- If your problem is a binary classification problem, then the output will be class values 0 and 1. This is best modeled with a sigmoid activation function on the output layer. Output values will be real values between 0 and 1 that can be snapped to crisp values.\n",
    "\n",
    "### Multi-class classification Problem\n",
    "- If your problem is a multi-class classification problem, then the output will be a vector of binary class values between 0 and 1, one output per class value. This is best modeled with a softmax activation function on the output layer. Again, output values will be real values between 0 and 1 that can be snapped to crisp values.\n",
    "\n",
    "### Regression Problem\n",
    "- If your problem is a regression problem, then the output will be a real value. This is best modeled with a linear activation function. If the distribution of the value is normal, then you can standardize the output variable. Otherwise, the output variable can be normalized.\n",
    "\n",
    "### Other Problem\n",
    "- There are many other activation functions that may be used on the output layer and the specifics of your problem may add confusion.\n",
    "\n",
    "The rule of thumb is to ensure that the network outputs match the scale of your data.\n",
    "\n",
    "# Multilayer Perceptron with Scaled Output variables"
   ]
  },
  {
   "cell_type": "code",
   "execution_count": 4,
   "id": "2d08d173",
   "metadata": {},
   "outputs": [
    {
     "name": "stdout",
     "output_type": "stream",
     "text": [
      "(500, 1) (500, 1)\n",
      "train: 0.001, test: 0.002\n"
     ]
    },
    {
     "data": {
      "image/png": "[encoded data removed]",
      "text/plain": [
       "<Figure size 432x288 with 1 Axes>"
      ]
     },
     "metadata": {
      "needs_background": "light"
     },
     "output_type": "display_data"
    }
   ],
   "source": [
    "from sklearn.preprocessing import StandardScaler\n",
    "\n",
    "# reshape 1d arras to 2d arrays of y\n",
    "trainy = trainy.reshape(len(trainy), 1)\n",
    "testy = testy.reshape(len(trainy), 1)\n",
    "print( trainy.shape, testy.shape)\n",
    "# create scaler\n",
    "scaler = StandardScaler()\n",
    "# fit scaler\n",
    "scaler.fit(trainy)\n",
    "# transform\n",
    "trainy = scaler.transform(trainy)\n",
    "testy = scaler.transform(testy)\n",
    "\n",
    "# done the scaling output variables\n",
    "fit_model(trainX, trainy, testX, testy)"
   ]
  },
  {
   "cell_type": "markdown",
   "id": "34518770",
   "metadata": {},
   "source": [
    "- A line plot of the mean squared error on the train (blue) and test (orange) dataset over each training epoch is created.\n",
    "\n",
    "- In this case, we can see that the model rapidly learns to effectively map inputs to outputs for the regression problem and achieves good performance on both datasets over the course of the run, neither overfitting or underfitting the training dataset.\n",
    "\n",
    "# Multilayer Perceptron with Scaled Input variables"
   ]
  },
  {
   "cell_type": "code",
   "execution_count": 5,
   "id": "938c34cd",
   "metadata": {},
   "outputs": [
    {
     "name": "stdout",
     "output_type": "stream",
     "text": [
      "train: 0.000, test: 0.000\n"
     ]
    },
    {
     "data": {
      "image/png": "[encoded data removed]",
      "text/plain": [
       "<Figure size 432x288 with 1 Axes>"
      ]
     },
     "metadata": {
      "needs_background": "light"
     },
     "output_type": "display_data"
    }
   ],
   "source": [
    "# scaler fits the input train and test dataset\n",
    "scaler.fit(trainX)\n",
    "trainX = scaler.transform(trainX)\n",
    "testX = scaler.transform(testX)\n",
    "# model fitting with both scaled input and output variables\n",
    "fit_model(trainX, trainy, testX, testy)"
   ]
  },
  {
   "cell_type": "markdown",
   "id": "00eb5730",
   "metadata": {},
   "source": [
    "- Both train and test MSE (loss) is nearly zero.\n",
    "\n",
    "## Practical Considerations When Scaling\n",
    "There are some practical considerations when scaling sequence data.\n",
    "\n",
    "- Estimate Coefficients. You can estimate coefficients (min and max values for normalization or mean and standard deviation for standardization) from the training data. Inspect these first-cut estimates and use domain knowledge or domain experts to help improve these estimates so that they will be usefully correct on all data in the future.\n",
    "- Save Coefficients. You will need to normalize new data in the future in exactly the same way as the data used to train your model. Save the coefficients used to file and load them later when you need to scale new data when making predictions.\n",
    "- Data Analysis. Use data analysis to help you better understand your data. For example, a simple histogram can help you quickly get a feeling for the distribution of quantities to see if standardization would make sense.\n",
    "- Scale Each Series. If your problem has multiple series, treat each as a separate variable and in turn scale them separately.\n",
    "- Scale At The Right Time. It is important to apply any scaling transforms at the right time. For example, if you have a series of quantities that is non-stationary, it may be appropriate to scale after first making your data stationary. It would not be appropriate to scale the series after it has been transformed into a supervised learning problem as each column would be handled differently, which would be incorrect.\n",
    "- Scale if in Doubt. You probably do need to rescale your input and output variables. If in doubt, at least normalize your data."
   ]
  },
  {
   "cell_type": "code",
   "execution_count": null,
   "id": "89be8fca",
   "metadata": {},
   "outputs": [],
   "source": []
  }
 ],
 "metadata": {
  "kernelspec": {
   "display_name": "Python 3 (ipykernel)",
   "language": "python",
   "name": "python3"
  },
  "language_info": {
   "codemirror_mode": {
    "name": "ipython",
    "version": 3
   },
   "file_extension": ".py",
   "mimetype": "text/x-python",
   "name": "python",
   "nbconvert_exporter": "python",
   "pygments_lexer": "ipython3",
   "version": "3.9.7"
  }
 },
 "nbformat": 4,
 "nbformat_minor": 5
}
