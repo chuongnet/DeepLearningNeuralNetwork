{
 "cells": [
  {
   "cell_type": "code",
   "execution_count": 1,
   "id": "abc83750",
   "metadata": {},
   "outputs": [],
   "source": [
    "from sklearn.feature_extraction.text import TfidfVectorizer\n",
    "from sklearn.cluster import KMeans\n",
    "from sklearn.metrics import adjusted_rand_score"
   ]
  },
  {
   "cell_type": "code",
   "execution_count": 3,
   "id": "cd7018f0",
   "metadata": {},
   "outputs": [
    {
     "data": {
      "text/plain": [
       "(8, 33)"
      ]
     },
     "metadata": {},
     "output_type": "display_data"
    }
   ],
   "source": [
    "documents = [\"This little kitty came to play when I was eating at a restaurant.\",\n",
    "             \"Merley has the best squooshy kitten belly.\",\n",
    "             \"Google Translate app is incredible.\",\n",
    "             \"If you open 100 tab in google you get a smiley face.\",\n",
    "             \"Best cat photo I've ever taken.\",\n",
    "             \"Climbing ninja cat.\",\n",
    "             \"Impressed with google map feedback.\",\n",
    "             \"Key promoter extension for Google Chrome.\"]\n",
    "\n",
    "vectorizer = TfidfVectorizer(stop_words='english')\n",
    "X = vectorizer.fit_transform(documents)\n",
    "display(X.shape)"
   ]
  },
  {
   "cell_type": "code",
   "execution_count": 14,
   "id": "bd903d7d",
   "metadata": {
    "scrolled": true
   },
   "outputs": [
    {
     "name": "stdout",
     "output_type": "stream",
     "text": [
      "(2, 33) [[12 21  7  1 11 13 14 31 19  5 25 15  9  6  0 22 27 29 10  8  4  3  2 32\n",
      "  17 18 20 23 24 26 28 30 16]\n",
      " [ 3 32 23 30  2 20 16 28 26  4 18 17  8 24  5 25 10  1 29  6  7  9 12 11\n",
      "  13 14 15 31 19 27 21 22  0]]\n",
      "** cluster i= 0\n",
      "kitten\n",
      "taken\n",
      "squooshy\n",
      "restaurant\n",
      "play\n",
      "photo\n",
      "merley\n",
      "little\n",
      "kitty\n",
      "ve\n",
      "belly\n",
      "best\n",
      "came\n",
      "eating\n",
      "face\n",
      "tab\n",
      "smiley\n",
      "open\n",
      "100\n",
      "chrome\n",
      "extension\n",
      "key\n",
      "promoter\n",
      "cat\n",
      "map\n",
      "translate\n",
      "incredible\n",
      "impressed\n",
      "feedback\n",
      "app\n",
      "climbing\n",
      "ninja\n",
      "google\n",
      "** cluster i= 1\n",
      "100\n",
      "open\n",
      "ninja\n",
      "smiley\n",
      "map\n",
      "translate\n",
      "key\n",
      "incredible\n",
      "impressed\n",
      "feedback\n",
      "google\n",
      "extension\n",
      "climbing\n",
      "chrome\n",
      "tab\n",
      "app\n",
      "face\n",
      "promoter\n",
      "cat\n",
      "play\n",
      "eating\n",
      "kitty\n",
      "little\n",
      "came\n",
      "restaurant\n",
      "squooshy\n",
      "kitten\n",
      "merley\n",
      "belly\n",
      "taken\n",
      "photo\n",
      "ve\n",
      "best\n",
      "prediction:\n",
      "[0]\n"
     ]
    }
   ],
   "source": [
    "true_k = 2\n",
    "model = KMeans(n_clusters=true_k, init='k-means++', max_iter=100, n_init=1)\n",
    "model.fit(X)\n",
    "\n",
    "## print top terms per cluster:\n",
    "order_centroids = model.cluster_centers_.argsort()[:, ::-1]\n",
    "print(order_centroids.shape, order_centroids)\n",
    "terms = vectorizer.get_feature_names()\n",
    "for i in range(true_k):\n",
    "    print(f'** cluster i= {i}')\n",
    "    for ind in order_centroids[i, ::-1]:\n",
    "        print('%s' % terms[ind])\n",
    "        \n",
    "print('prediction:')\n",
    "y = vectorizer.transform(['chrome browser to open.'])\n",
    "predict = model.predict(y)\n",
    "print(predict)"
   ]
  },
  {
   "cell_type": "code",
   "execution_count": 9,
   "id": "afc77185",
   "metadata": {},
   "outputs": [
    {
     "name": "stdout",
     "output_type": "stream",
     "text": [
      "prediction:\n",
      "[2]\n"
     ]
    }
   ],
   "source": [
    "print('prediction:')\n",
    "y = vectorizer.transform(['dog goes through the restaurant in the front and looking back.'])\n",
    "predict = model.predict(y)\n",
    "print(predict)"
   ]
  },
  {
   "cell_type": "code",
   "execution_count": 10,
   "id": "579162e7",
   "metadata": {},
   "outputs": [
    {
     "name": "stdout",
     "output_type": "stream",
     "text": [
      "prediction:\n",
      "[1]\n"
     ]
    }
   ],
   "source": [
    "print('prediction:')\n",
    "y = vectorizer.transform(['dog keller and cat kitty go forward to the restaurant and searching on chrome browser.'])\n",
    "predict = model.predict(y)\n",
    "print(predict)"
   ]
  },
  {
   "cell_type": "code",
   "execution_count": null,
   "id": "896309f8",
   "metadata": {},
   "outputs": [],
   "source": []
  }
 ],
 "metadata": {
  "kernelspec": {
   "display_name": "Python 3",
   "language": "python",
   "name": "python3"
  },
  "language_info": {
   "codemirror_mode": {
    "name": "ipython",
    "version": 3
   },
   "file_extension": ".py",
   "mimetype": "text/x-python",
   "name": "python",
   "nbconvert_exporter": "python",
   "pygments_lexer": "ipython3",
   "version": "3.7.10"
  }
 },
 "nbformat": 4,
 "nbformat_minor": 5
}
